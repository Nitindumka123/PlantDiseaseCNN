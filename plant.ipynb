{
 "cells": [
  {
   "cell_type": "code",
   "execution_count": null,
   "id": "0aeb8baa",
   "metadata": {},
   "outputs": [
    {
     "name": "stdout",
     "output_type": "stream",
     "text": [
      "Defaulting to user installation because normal site-packages is not writeable\n"
     ]
    },
    {
     "name": "stderr",
     "output_type": "stream",
     "text": [
      "WARNING: Retrying (Retry(total=4, connect=None, read=None, redirect=None, status=None)) after connection broken by 'NewConnectionError('<pip._vendor.urllib3.connection.HTTPSConnection object at 0x000002232FC97850>: Failed to establish a new connection: [Errno 11001] getaddrinfo failed')': /simple/kaggle/\n",
      "WARNING: Retrying (Retry(total=3, connect=None, read=None, redirect=None, status=None)) after connection broken by 'NewConnectionError('<pip._vendor.urllib3.connection.HTTPSConnection object at 0x000002232FC97B80>: Failed to establish a new connection: [Errno 11001] getaddrinfo failed')': /simple/kaggle/\n",
      "WARNING: Retrying (Retry(total=2, connect=None, read=None, redirect=None, status=None)) after connection broken by 'NewConnectionError('<pip._vendor.urllib3.connection.HTTPSConnection object at 0x000002232FC97D30>: Failed to establish a new connection: [Errno 11001] getaddrinfo failed')': /simple/kaggle/\n",
      "WARNING: Retrying (Retry(total=1, connect=None, read=None, redirect=None, status=None)) after connection broken by 'NewConnectionError('<pip._vendor.urllib3.connection.HTTPSConnection object at 0x000002232FC97F10>: Failed to establish a new connection: [Errno 11001] getaddrinfo failed')': /simple/kaggle/\n",
      "WARNING: Retrying (Retry(total=0, connect=None, read=None, redirect=None, status=None)) after connection broken by 'NewConnectionError('<pip._vendor.urllib3.connection.HTTPSConnection object at 0x000002232FC97FD0>: Failed to establish a new connection: [Errno 11001] getaddrinfo failed')': /simple/kaggle/\n",
      "ERROR: Could not find a version that satisfies the requirement kaggle (from versions: none)\n",
      "ERROR: No matching distribution found for kaggle\n"
     ]
    },
    {
     "name": "stdout",
     "output_type": "stream",
     "text": [
      "HTTPSConnectionPool(host='www.kaggle.com', port=443): Max retries exceeded with url: /api/v1/datasets/metadata/emmarex/plantdisease (Caused by NameResolutionError(\"<urllib3.connection.HTTPSConnection object at 0x000002A63C6B2660>: Failed to resolve 'www.kaggle.com' ([Errno 11001] getaddrinfo failed)\"))\n"
     ]
    }
   ],
   "source": [
    "\n",
    "!pip install kaggle split-folders torch torchvision\n",
    "\n",
    "\n",
    "!kaggle datasets download -d emmarex/plantdisease -p ./data --unzip\n",
    "\n",
    "\n",
    "import os\n",
    "\n",
    "\n",
    "root_folder = \"./data/PlantVillage\"\n",
    "if not os.path.exists(root_folder):\n",
    "    raise ValueError(\"Dataset not found at expected location.\")\n"
   ]
  },
  {
   "cell_type": "markdown",
   "id": "6b18fa0e",
   "metadata": {},
   "source": [
    "spliting the data into training and validation in 80,20"
   ]
  },
  {
   "cell_type": "code",
   "execution_count": null,
   "id": "068693d4",
   "metadata": {},
   "outputs": [
    {
     "name": "stderr",
     "output_type": "stream",
     "text": [
      "Copying files: 20639 files [00:34, 605.57 files/s]\n"
     ]
    }
   ],
   "source": [
    "import splitfolders\n",
    "\n",
    "splitfolders.ratio(\n",
    "    root_folder,\n",
    "    output=\"./data/output\",\n",
    "    seed=42,\n",
    "    ratio=(0.8, 0.2) \n",
    ")\n",
    "\n"
   ]
  },
  {
   "cell_type": "markdown",
   "id": "c5230bfb",
   "metadata": {},
   "source": [
    "to see folders are exist or not , basically for recheck"
   ]
  },
  {
   "cell_type": "code",
   "execution_count": 3,
   "id": "99802bfd",
   "metadata": {},
   "outputs": [
    {
     "name": "stdout",
     "output_type": "stream",
     "text": [
      "Train exists? True\n",
      "Val exists? True\n",
      "Classes in train: ['Pepper__bell___Bacterial_spot', 'Pepper__bell___healthy', 'PlantVillage', 'Potato___Early_blight', 'Potato___healthy', 'Potato___Late_blight', 'Tomato_Bacterial_spot', 'Tomato_Early_blight', 'Tomato_healthy', 'Tomato_Late_blight', 'Tomato_Leaf_Mold', 'Tomato_Septoria_leaf_spot', 'Tomato_Spider_mites_Two_spotted_spider_mite', 'Tomato__Target_Spot', 'Tomato__Tomato_mosaic_virus', 'Tomato__Tomato_YellowLeaf__Curl_Virus']\n",
      "Classes in val: ['Pepper__bell___Bacterial_spot', 'Pepper__bell___healthy', 'PlantVillage', 'Potato___Early_blight', 'Potato___healthy', 'Potato___Late_blight', 'Tomato_Bacterial_spot', 'Tomato_Early_blight', 'Tomato_healthy', 'Tomato_Late_blight', 'Tomato_Leaf_Mold', 'Tomato_Septoria_leaf_spot', 'Tomato_Spider_mites_Two_spotted_spider_mite', 'Tomato__Target_Spot', 'Tomato__Tomato_mosaic_virus', 'Tomato__Tomato_YellowLeaf__Curl_Virus']\n"
     ]
    }
   ],
   "source": [
    "import os\n",
    "print(\"Train exists?\", os.path.exists(\"./data/output/train\"))\n",
    "print(\"Val exists?\", os.path.exists(\"./data/output/val\"))\n",
    "print(\"Classes in train:\", os.listdir(\"./data/output/train\"))\n",
    "print(\"Classes in val:\", os.listdir(\"./data/output/val\"))\n"
   ]
  },
  {
   "cell_type": "markdown",
   "id": "630c3f84",
   "metadata": {},
   "source": [
    "Loading data and preprocessing here"
   ]
  },
  {
   "cell_type": "code",
   "execution_count": null,
   "id": "58589750",
   "metadata": {},
   "outputs": [
    {
     "name": "stdout",
     "output_type": "stream",
     "text": [
      "Classes: ['Pepper__bell___Bacterial_spot', 'Pepper__bell___healthy', 'Potato___Early_blight', 'Potato___Late_blight', 'Potato___healthy', 'Tomato_Bacterial_spot', 'Tomato_Early_blight', 'Tomato_Late_blight', 'Tomato_Leaf_Mold', 'Tomato_Septoria_leaf_spot', 'Tomato_Spider_mites_Two_spotted_spider_mite', 'Tomato__Target_Spot', 'Tomato__Tomato_YellowLeaf__Curl_Virus', 'Tomato__Tomato_mosaic_virus', 'Tomato_healthy']\n",
      "Number of classes: 15\n"
     ]
    }
   ],
   "source": [
    "from torchvision import datasets, transforms\n",
    "from torch.utils.data import DataLoader\n",
    "\n",
    "data_dir = \"./data/output\"\n",
    "\n",
    "transform = transforms.Compose([\n",
    "    transforms.Resize((128, 128)),                            # changing images into 128 x 128\n",
    "    transforms.ToTensor(),\n",
    "    transforms.Normalize([0.5, 0.5, 0.5], [0.5, 0.5, 0.5])\n",
    "])\n",
    "\n",
    "train_dataset = datasets.ImageFolder(os.path.join(data_dir, \"train\"), transform=transform)\n",
    "val_dataset   = datasets.ImageFolder(os.path.join(data_dir, \"val\"),   transform=transform)\n",
    "\n",
    "train_loader = DataLoader(train_dataset, batch_size=32, shuffle=True, num_workers=2)\n",
    "val_loader   = DataLoader(val_dataset, batch_size=32, shuffle=False, num_workers=2)\n",
    "\n",
    "num_classes = len(train_dataset.classes)\n",
    "print(\"Classes:\", train_dataset.classes)\n",
    "print(\"Number of classes:\", num_classes)\n"
   ]
  },
  {
   "cell_type": "code",
   "execution_count": 9,
   "id": "4a03d74e",
   "metadata": {},
   "outputs": [
    {
     "name": "stdout",
     "output_type": "stream",
     "text": [
      "16504 4134\n"
     ]
    }
   ],
   "source": [
    "print(len(train_dataset), len(val_dataset))\n"
   ]
  },
  {
   "cell_type": "markdown",
   "id": "3f203950",
   "metadata": {},
   "source": [
    "cnn model\n"
   ]
  },
  {
   "cell_type": "code",
   "execution_count": null,
   "id": "f3764577-677a-42e6-a095-836edce05bbb",
   "metadata": {},
   "outputs": [
    {
     "name": "stdout",
     "output_type": "stream",
     "text": [
      "Using device: cpu\n",
      "PlantDiseaseCNN(\n",
      "  (conv_layers): Sequential(\n",
      "    (0): Conv2d(3, 32, kernel_size=(3, 3), stride=(1, 1), padding=(1, 1))\n",
      "    (1): ReLU()\n",
      "    (2): MaxPool2d(kernel_size=2, stride=2, padding=0, dilation=1, ceil_mode=False)\n",
      "    (3): Conv2d(32, 64, kernel_size=(3, 3), stride=(1, 1), padding=(1, 1))\n",
      "    (4): ReLU()\n",
      "    (5): MaxPool2d(kernel_size=2, stride=2, padding=0, dilation=1, ceil_mode=False)\n",
      "    (6): Conv2d(64, 128, kernel_size=(3, 3), stride=(1, 1), padding=(1, 1))\n",
      "    (7): ReLU()\n",
      "    (8): MaxPool2d(kernel_size=2, stride=2, padding=0, dilation=1, ceil_mode=False)\n",
      "  )\n",
      "  (fc_layers): Sequential(\n",
      "    (0): Flatten(start_dim=1, end_dim=-1)\n",
      "    (1): Linear(in_features=32768, out_features=256, bias=True)\n",
      "    (2): ReLU()\n",
      "    (3): Dropout(p=0.5, inplace=False)\n",
      "    (4): Linear(in_features=256, out_features=15, bias=True)\n",
      "  )\n",
      ")\n",
      "Epoch [1/10] Loss: 1.1056 | Train Acc: 64.01% | Val Acc: 83.65%\n",
      "✅ Saved Best Model\n",
      "Epoch [2/10] Loss: 0.5503 | Train Acc: 81.81% | Val Acc: 90.71%\n",
      "✅ Saved Best Model\n",
      "Epoch [3/10] Loss: 0.3848 | Train Acc: 87.50% | Val Acc: 91.82%\n",
      "✅ Saved Best Model\n",
      "Epoch [4/10] Loss: 0.2950 | Train Acc: 90.24% | Val Acc: 93.25%\n",
      "✅ Saved Best Model\n",
      "Epoch [5/10] Loss: 0.2229 | Train Acc: 92.57% | Val Acc: 93.64%\n",
      "✅ Saved Best Model\n",
      "Epoch [6/10] Loss: 0.1929 | Train Acc: 93.67% | Val Acc: 91.73%\n",
      "Epoch [7/10] Loss: 0.1651 | Train Acc: 94.40% | Val Acc: 92.65%\n",
      "Epoch [8/10] Loss: 0.1454 | Train Acc: 94.96% | Val Acc: 95.31%\n",
      "✅ Saved Best Model\n",
      "Epoch [9/10] Loss: 0.1258 | Train Acc: 95.62% | Val Acc: 94.07%\n",
      "Epoch [10/10] Loss: 0.1096 | Train Acc: 96.38% | Val Acc: 95.02%\n",
      "Training Finished. Best Validation Accuracy: 95.31%\n"
     ]
    }
   ],
   "source": [
    "import torch\n",
    "import torch.nn as nn\n",
    "import torch.optim as optim\n",
    "\n",
    "device = torch.device(\"cuda\" if torch.cuda.is_available() else \"cpu\")\n",
    "print(\"Using device:\", device)\n",
    "\n",
    "class PlantDiseaseCNN(nn.Module):\n",
    "    def __init__(self, num_classes):\n",
    "        super(PlantDiseaseCNN, self).__init__()\n",
    "        self.conv_layers = nn.Sequential(\n",
    "            nn.Conv2d(3, 32, kernel_size=3, stride=1, padding=1),\n",
    "            nn.ReLU(),\n",
    "            nn.MaxPool2d(2, 2),\n",
    "            nn.Conv2d(32, 64, kernel_size=3, stride=1, padding=1),\n",
    "            nn.ReLU(),\n",
    "            nn.MaxPool2d(2, 2),\n",
    "            nn.Conv2d(64, 128, kernel_size=3, stride=1, padding=1),\n",
    "            nn.ReLU(),\n",
    "            nn.MaxPool2d(2, 2)\n",
    "        )\n",
    "        # till now we have getted the batches and c,h,w is (128,16,16)\n",
    "        self.fc_layers = nn.Sequential(                                  #fully connected \n",
    "            nn.Flatten(),                                   \n",
    "            nn.Linear(128 * 16 * 16, 256),                              # now we have getted the batches and c,h,w is (256,16,16)\n",
    "            nn.ReLU(),\n",
    "            nn.Dropout(0.5),\n",
    "            nn.Linear(256, num_classes)\n",
    "        )\n",
    "    def forward(self, x):\n",
    "        x = self.conv_layers(x)\n",
    "        x = self.fc_layers(x)\n",
    "        return x\n",
    "\n",
    "model = PlantDiseaseCNN(num_classes).to(device)\n",
    "print(model)\n",
    "\n",
    "my_lose = nn.CrossEntropyLoss()                                # probability(model,true)predict\n",
    "optimizer = optim.Adam(model.parameters(), lr=0.001)\n",
    "\n",
    "epochs = 10\n",
    "best_acc = 0.0\n",
    "\n",
    "train_losses = []\n",
    "val_losses = []\n",
    "train_accuracies = []\n",
    "val_accuracies = []\n",
    "\n",
    "for epoch in range(epochs):\n",
    "    model.train()\n",
    "    running_loss, correct, total = 0.0, 0, 0\n",
    "    \n",
    "    for images, labels in train_loader:\n",
    "        images, labels = images.to(device), labels.to(device)\n",
    "        optimizer.zero_grad()\n",
    "        outputs = model(images)\n",
    "        loss = my_lose(outputs, labels)\n",
    "        loss.backward()\n",
    "        optimizer.step()\n",
    "        \n",
    "        running_loss += loss.item()\n",
    "        _, predicted = torch.max(outputs, 1)\n",
    "        correct += (predicted == labels).sum().item()\n",
    "        total += labels.size(0)\n",
    "    \n",
    "    train_loss = running_loss / len(train_loader)\n",
    "    train_acc = 100 * correct / total\n",
    "    \n",
    "    model.eval()\n",
    "    val_running_loss, val_correct, val_total = 0.0, 0, 0\n",
    "    \n",
    "    with torch.no_grad():\n",
    "        for images, labels in val_loader:\n",
    "            images, labels = images.to(device), labels.to(device)\n",
    "            outputs = model(images)\n",
    "            loss = my_lose(outputs, labels)\n",
    "            val_running_loss += loss.item()\n",
    "            _, predicted = torch.max(outputs, 1)\n",
    "            val_correct += (predicted == labels).sum().item()\n",
    "            val_total += labels.size(0)\n",
    "    \n",
    "    val_loss = val_running_loss / len(val_loader)\n",
    "    val_acc = 100 * val_correct / val_total\n",
    "    \n",
    "    train_losses.append(train_loss)\n",
    "    val_losses.append(val_loss)\n",
    "    train_accuracies.append(train_acc)\n",
    "    val_accuracies.append(val_acc)\n",
    "    \n",
    "    print(f\"Epoch [{epoch+1}/{epochs}] Loss: {train_loss:.4f} | Train Acc: {train_acc:.2f}% | Val Acc: {val_acc:.2f}%\")\n",
    "    \n",
    "    if val_acc > best_acc:\n",
    "        best_acc = val_acc\n",
    "        torch.save(model.state_dict(), \"best_plant_disease_model.pth\")\n",
    "        print(\"✅ Saved Best Model\")\n",
    "\n",
    "print(f\"Training Finished. Best Validation Accuracy: {best_acc:.2f}%\")"
   ]
  },
  {
   "cell_type": "code",
   "execution_count": 18,
   "id": "a984ccec",
   "metadata": {},
   "outputs": [
    {
     "data": {
      "image/png": "[encoded data removed]",
      "text/plain": [
       "<Figure size 1200x400 with 2 Axes>"
      ]
     },
     "metadata": {},
     "output_type": "display_data"
    }
   ],
   "source": [
    "import matplotlib.pyplot as plt\n",
    "\n",
    "plt.figure(figsize=(12, 4))\n",
    "\n",
    "plt.subplot(1,2,1)\n",
    "plt.plot(train_losses, label='train_loss')\n",
    "plt.plot(val_losses, label='val_loss')\n",
    "plt.legend()\n",
    "plt.title('Loss')\n",
    "\n",
    "plt.subplot(1,2,2)\n",
    "plt.plot(train_accuracies, label='train_acc')\n",
    "plt.plot(val_accuracies, label='val_acc')\n",
    "plt.legend()\n",
    "plt.title('Accuracy')\n",
    "\n",
    "plt.show()"
   ]
  },
  {
   "cell_type": "markdown",
   "id": "d21c3090",
   "metadata": {},
   "source": []
  },
  {
   "cell_type": "code",
   "execution_count": 24,
   "id": "f0c1743e",
   "metadata": {},
   "outputs": [
    {
     "name": "stdout",
     "output_type": "stream",
     "text": [
      "Predicted disease: Tomato_Late_blight\n"
     ]
    }
   ],
   "source": [
    "from PIL import Image\n",
    "import torch\n",
    "from torchvision import transforms\n",
    "\n",
    "# 1. Load saved model\n",
    "model = PlantDiseaseCNN(num_classes)  # Define the model architecture\n",
    "model.load_state_dict(torch.load(\"best_plant_disease_model.pth\"))\n",
    "model.eval()  # Set model to evaluation mode\n",
    "\n",
    "# 2. Define transform (same as during training)\n",
    "transform = transforms.Compose([\n",
    "    transforms.Resize((128, 128)),\n",
    "    transforms.ToTensor(),\n",
    "    transforms.Normalize([0.5, 0.5, 0.5], [0.5, 0.5, 0.5])\n",
    "])\n",
    "\n",
    "# 3. Load and preprocess a new image\n",
    "img_path = 'ca2020_early_blight_potato_damage2.png'\n",
    "image = Image.open(img_path).convert('RGB')\n",
    "input_tensor = transform(image).unsqueeze(0)  # Add batch dimension\n",
    "\n",
    "# 4. Predict disease\n",
    "with torch.no_grad():\n",
    "    outputs = model(input_tensor)\n",
    "    _, predicted_class = torch.max(outputs, 1)\n",
    "\n",
    "# 5. Map prediction to label\n",
    "class_names = train_dataset.classes  # List of class labels from your dataset\n",
    "predicted_label = class_names[predicted_class.item()]\n",
    "\n",
    "print(f\"Predicted disease: {predicted_label}\")\n"
   ]
  },
  {
   "cell_type": "markdown",
   "id": "6a08f78a",
   "metadata": {},
   "source": [
    "testing images"
   ]
  },
  {
   "cell_type": "code",
   "execution_count": null,
   "id": "15dd6ca7",
   "metadata": {},
   "outputs": [],
   "source": [
    "OIP.jpeg\n",
    "C:/Users/Nitin Dumka/OneDrive/Desktop/Tomato_bacterial_spot01.jpg\n",
    "0fcbdf76-fcc4-4271-986a-9466a784d404___JR_B.Spot 3374.JPG\n",
    "2df35be7-ba8c-4ff6-a608-f7c481c59ede___PSU_CG 2202.JPG\n",
    "0f6a5f32-3d95-4ef1-bc01-ba36f2efb2b4___Com.G_SpM_FL 1661.JPG\n",
    "0b3778d6-b81e-43eb-9512-7e9067a9ca8f___UF.GRC_YLCV_Lab 08551.JPG\n"
   ]
  }
 ],
 "metadata": {
  "kernelspec": {
   "display_name": "Python (ml_gpu_env)",
   "language": "python",
   "name": "ml_gpu_env"
  },
  "language_info": {
   "codemirror_mode": {
    "name": "ipython",
    "version": 3
   },
   "file_extension": ".py",
   "mimetype": "text/x-python",
   "name": "python",
   "nbconvert_exporter": "python",
   "pygments_lexer": "ipython3",
   "version": "3.13.7"
  }
 },
 "nbformat": 4,
 "nbformat_minor": 5
}
